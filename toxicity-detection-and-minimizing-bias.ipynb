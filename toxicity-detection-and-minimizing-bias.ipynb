{
 "cells": [
  {
   "cell_type": "markdown",
   "metadata": {
    "papermill": {
     "duration": 0.035758,
     "end_time": "2021-06-24T16:02:33.398726",
     "exception": false,
     "start_time": "2021-06-24T16:02:33.362968",
     "status": "completed"
    },
    "tags": []
   },
   "source": [
    "# ======== Phase 1 ========"
   ]
  },
  {
   "cell_type": "markdown",
   "metadata": {
    "papermill": {
     "duration": 0.034573,
     "end_time": "2021-06-24T16:02:33.467827",
     "exception": false,
     "start_time": "2021-06-24T16:02:33.433254",
     "status": "completed"
    },
    "tags": []
   },
   "source": [
    "## Libraries and Packages"
   ]
  },
  {
   "cell_type": "code",
   "execution_count": 1,
   "metadata": {
    "_cell_guid": "b1076dfc-b9ad-4769-8c92-a6c4dae69d19",
    "_uuid": "8f2839f25d086af736a60e9eeb907d3b93b6e0e5",
    "execution": {
     "iopub.execute_input": "2021-06-24T16:02:33.549555Z",
     "iopub.status.busy": "2021-06-24T16:02:33.548953Z",
     "iopub.status.idle": "2021-06-24T16:02:41.926644Z",
     "shell.execute_reply": "2021-06-24T16:02:41.926022Z",
     "shell.execute_reply.started": "2021-06-24T14:16:31.386687Z"
    },
    "papermill": {
     "duration": 8.424547,
     "end_time": "2021-06-24T16:02:41.926800",
     "exception": false,
     "start_time": "2021-06-24T16:02:33.502253",
     "status": "completed"
    },
    "tags": []
   },
   "outputs": [],
   "source": [
    "import numpy as np \n",
    "import pandas as pd\n",
    "import matplotlib.pyplot as plt     \n",
    "import seaborn as sns\n",
    "\n",
    "import string\n",
    "import re\n",
    "import nltk\n",
    "from nltk.corpus import stopwords\n",
    "import spacy\n",
    "from nltk import pos_tag\n",
    "from nltk.stem.wordnet import WordNetLemmatizer \n",
    "from nltk.tokenize import word_tokenize\n",
    "# Tweet tokenizer does not split at apostophes which is what we want\n",
    "from nltk.tokenize import TweetTokenizer   \n",
    "from wordcloud import WordCloud, STOPWORDS\n",
    "\n",
    "from keras.models import Sequential\n",
    "from keras.layers import Dense,Embedding,LSTM\n",
    "from keras.layers import Convolution1D, GlobalMaxPooling1D,GlobalAveragePooling1D\n",
    "from keras.layers import Bidirectional, SpatialDropout1D, GRU\n",
    "from keras.preprocessing.sequence import pad_sequences\n",
    "from sklearn.model_selection import train_test_split\n",
    "from sklearn import metrics\n",
    "from sklearn import model_selection\n",
    "from keras.utils import to_categorical\n",
    "\n",
    "import tensorflow as tf\n",
    "from tensorflow.keras.preprocessing.text import Tokenizer\n",
    "from keras.optimizers import RMSprop, Adam\n",
    "\n",
    "from tqdm import tqdm\n",
    "tqdm.pandas(desc=\"progress-bar\")\n",
    "\n",
    "import gc\n",
    "## warnings\n",
    "import warnings\n",
    "warnings.filterwarnings(\"ignore\")"
   ]
  },
  {
   "cell_type": "markdown",
   "metadata": {
    "papermill": {
     "duration": 0.034491,
     "end_time": "2021-06-24T16:02:41.996766",
     "exception": false,
     "start_time": "2021-06-24T16:02:41.962275",
     "status": "completed"
    },
    "tags": []
   },
   "source": [
    "## Data"
   ]
  },
  {
   "cell_type": "code",
   "execution_count": 2,
   "metadata": {
    "execution": {
     "iopub.execute_input": "2021-06-24T16:02:42.073605Z",
     "iopub.status.busy": "2021-06-24T16:02:42.073070Z",
     "iopub.status.idle": "2021-06-24T16:02:59.519939Z",
     "shell.execute_reply": "2021-06-24T16:02:59.518981Z",
     "shell.execute_reply.started": "2021-06-24T14:16:39.953937Z"
    },
    "papermill": {
     "duration": 17.487795,
     "end_time": "2021-06-24T16:02:59.520102",
     "exception": false,
     "start_time": "2021-06-24T16:02:42.032307",
     "status": "completed"
    },
    "tags": []
   },
   "outputs": [],
   "source": [
    "train = pd.read_csv('../input/jigsaw-unintended-bias-in-toxicity-classification/train.csv')"
   ]
  },
  {
   "cell_type": "markdown",
   "metadata": {
    "papermill": {
     "duration": 0.035097,
     "end_time": "2021-06-24T16:02:59.592322",
     "exception": false,
     "start_time": "2021-06-24T16:02:59.557225",
     "status": "completed"
    },
    "tags": []
   },
   "source": [
    "## Exploratory Data Analysis"
   ]
  },
  {
   "cell_type": "code",
   "execution_count": 3,
   "metadata": {
    "_kg_hide-output": true,
    "execution": {
     "iopub.execute_input": "2021-06-24T16:02:59.668861Z",
     "iopub.status.busy": "2021-06-24T16:02:59.667967Z",
     "iopub.status.idle": "2021-06-24T16:03:00.347378Z",
     "shell.execute_reply": "2021-06-24T16:03:00.347999Z",
     "shell.execute_reply.started": "2021-06-24T14:16:57.854245Z"
    },
    "papermill": {
     "duration": 0.720097,
     "end_time": "2021-06-24T16:03:00.348165",
     "exception": false,
     "start_time": "2021-06-24T16:02:59.628068",
     "status": "completed"
    },
    "tags": []
   },
   "outputs": [
    {
     "data": {
      "text/plain": [
       "id                                           0\n",
       "target                                       0\n",
       "comment_text                                 0\n",
       "severe_toxicity                              0\n",
       "obscene                                      0\n",
       "identity_attack                              0\n",
       "insult                                       0\n",
       "threat                                       0\n",
       "asian                                  1399744\n",
       "atheist                                1399744\n",
       "bisexual                               1399744\n",
       "black                                  1399744\n",
       "buddhist                               1399744\n",
       "christian                              1399744\n",
       "female                                 1399744\n",
       "heterosexual                           1399744\n",
       "hindu                                  1399744\n",
       "homosexual_gay_or_lesbian              1399744\n",
       "intellectual_or_learning_disability    1399744\n",
       "jewish                                 1399744\n",
       "latino                                 1399744\n",
       "male                                   1399744\n",
       "muslim                                 1399744\n",
       "other_disability                       1399744\n",
       "other_gender                           1399744\n",
       "other_race_or_ethnicity                1399744\n",
       "other_religion                         1399744\n",
       "other_sexual_orientation               1399744\n",
       "physical_disability                    1399744\n",
       "psychiatric_or_mental_illness          1399744\n",
       "transgender                            1399744\n",
       "white                                  1399744\n",
       "created_date                                 0\n",
       "publication_id                               0\n",
       "parent_id                               778646\n",
       "article_id                                   0\n",
       "rating                                       0\n",
       "funny                                        0\n",
       "wow                                          0\n",
       "sad                                          0\n",
       "likes                                        0\n",
       "disagree                                     0\n",
       "sexual_explicit                              0\n",
       "identity_annotator_count                     0\n",
       "toxicity_annotator_count                     0\n",
       "dtype: int64"
      ]
     },
     "execution_count": 3,
     "metadata": {},
     "output_type": "execute_result"
    }
   ],
   "source": [
    "# Missing values\n",
    "train.isnull().sum()"
   ]
  },
  {
   "cell_type": "code",
   "execution_count": 4,
   "metadata": {
    "_kg_hide-output": true,
    "execution": {
     "iopub.execute_input": "2021-06-24T16:03:00.446844Z",
     "iopub.status.busy": "2021-06-24T16:03:00.445433Z",
     "iopub.status.idle": "2021-06-24T16:03:00.449931Z",
     "shell.execute_reply": "2021-06-24T16:03:00.450408Z",
     "shell.execute_reply.started": "2021-06-24T14:16:58.532528Z"
    },
    "papermill": {
     "duration": 0.062484,
     "end_time": "2021-06-24T16:03:00.450550",
     "exception": false,
     "start_time": "2021-06-24T16:03:00.388066",
     "status": "completed"
    },
    "tags": []
   },
   "outputs": [
    {
     "name": "stdout",
     "output_type": "stream",
     "text": [
      "(1804874, 45) \n",
      "\n",
      "<class 'pandas.core.frame.DataFrame'>\n",
      "RangeIndex: 1804874 entries, 0 to 1804873\n",
      "Data columns (total 45 columns):\n",
      " #   Column                               Dtype  \n",
      "---  ------                               -----  \n",
      " 0   id                                   int64  \n",
      " 1   target                               float64\n",
      " 2   comment_text                         object \n",
      " 3   severe_toxicity                      float64\n",
      " 4   obscene                              float64\n",
      " 5   identity_attack                      float64\n",
      " 6   insult                               float64\n",
      " 7   threat                               float64\n",
      " 8   asian                                float64\n",
      " 9   atheist                              float64\n",
      " 10  bisexual                             float64\n",
      " 11  black                                float64\n",
      " 12  buddhist                             float64\n",
      " 13  christian                            float64\n",
      " 14  female                               float64\n",
      " 15  heterosexual                         float64\n",
      " 16  hindu                                float64\n",
      " 17  homosexual_gay_or_lesbian            float64\n",
      " 18  intellectual_or_learning_disability  float64\n",
      " 19  jewish                               float64\n",
      " 20  latino                               float64\n",
      " 21  male                                 float64\n",
      " 22  muslim                               float64\n",
      " 23  other_disability                     float64\n",
      " 24  other_gender                         float64\n",
      " 25  other_race_or_ethnicity              float64\n",
      " 26  other_religion                       float64\n",
      " 27  other_sexual_orientation             float64\n",
      " 28  physical_disability                  float64\n",
      " 29  psychiatric_or_mental_illness        float64\n",
      " 30  transgender                          float64\n",
      " 31  white                                float64\n",
      " 32  created_date                         object \n",
      " 33  publication_id                       int64  \n",
      " 34  parent_id                            float64\n",
      " 35  article_id                           int64  \n",
      " 36  rating                               object \n",
      " 37  funny                                int64  \n",
      " 38  wow                                  int64  \n",
      " 39  sad                                  int64  \n",
      " 40  likes                                int64  \n",
      " 41  disagree                             int64  \n",
      " 42  sexual_explicit                      float64\n",
      " 43  identity_annotator_count             int64  \n",
      " 44  toxicity_annotator_count             int64  \n",
      "dtypes: float64(32), int64(10), object(3)\n",
      "memory usage: 619.7+ MB\n"
     ]
    }
   ],
   "source": [
    "print(train.shape, '\\n')\n",
    "train.info()"
   ]
  },
  {
   "cell_type": "code",
   "execution_count": 5,
   "metadata": {
    "execution": {
     "iopub.execute_input": "2021-06-24T16:03:00.541282Z",
     "iopub.status.busy": "2021-06-24T16:03:00.540495Z",
     "iopub.status.idle": "2021-06-24T16:03:00.552797Z",
     "shell.execute_reply": "2021-06-24T16:03:00.553228Z",
     "shell.execute_reply.started": "2021-06-24T14:16:58.553231Z"
    },
    "papermill": {
     "duration": 0.064881,
     "end_time": "2021-06-24T16:03:00.553350",
     "exception": false,
     "start_time": "2021-06-24T16:03:00.488469",
     "status": "completed"
    },
    "tags": []
   },
   "outputs": [
    {
     "data": {
      "text/html": [
       "<div>\n",
       "<style scoped>\n",
       "    .dataframe tbody tr th:only-of-type {\n",
       "        vertical-align: middle;\n",
       "    }\n",
       "\n",
       "    .dataframe tbody tr th {\n",
       "        vertical-align: top;\n",
       "    }\n",
       "\n",
       "    .dataframe thead th {\n",
       "        text-align: right;\n",
       "    }\n",
       "</style>\n",
       "<table border=\"1\" class=\"dataframe\">\n",
       "  <thead>\n",
       "    <tr style=\"text-align: right;\">\n",
       "      <th></th>\n",
       "      <th>id</th>\n",
       "      <th>target</th>\n",
       "      <th>comment_text</th>\n",
       "      <th>severe_toxicity</th>\n",
       "      <th>obscene</th>\n",
       "      <th>identity_attack</th>\n",
       "      <th>insult</th>\n",
       "      <th>threat</th>\n",
       "      <th>asian</th>\n",
       "      <th>atheist</th>\n",
       "      <th>...</th>\n",
       "      <th>article_id</th>\n",
       "      <th>rating</th>\n",
       "      <th>funny</th>\n",
       "      <th>wow</th>\n",
       "      <th>sad</th>\n",
       "      <th>likes</th>\n",
       "      <th>disagree</th>\n",
       "      <th>sexual_explicit</th>\n",
       "      <th>identity_annotator_count</th>\n",
       "      <th>toxicity_annotator_count</th>\n",
       "    </tr>\n",
       "  </thead>\n",
       "  <tbody>\n",
       "    <tr>\n",
       "      <th>0</th>\n",
       "      <td>59848</td>\n",
       "      <td>0.000000</td>\n",
       "      <td>This is so cool. It's like, 'would you want yo...</td>\n",
       "      <td>0.000000</td>\n",
       "      <td>0.0</td>\n",
       "      <td>0.000000</td>\n",
       "      <td>0.00000</td>\n",
       "      <td>0.0</td>\n",
       "      <td>NaN</td>\n",
       "      <td>NaN</td>\n",
       "      <td>...</td>\n",
       "      <td>2006</td>\n",
       "      <td>rejected</td>\n",
       "      <td>0</td>\n",
       "      <td>0</td>\n",
       "      <td>0</td>\n",
       "      <td>0</td>\n",
       "      <td>0</td>\n",
       "      <td>0.0</td>\n",
       "      <td>0</td>\n",
       "      <td>4</td>\n",
       "    </tr>\n",
       "    <tr>\n",
       "      <th>1</th>\n",
       "      <td>59849</td>\n",
       "      <td>0.000000</td>\n",
       "      <td>Thank you!! This would make my life a lot less...</td>\n",
       "      <td>0.000000</td>\n",
       "      <td>0.0</td>\n",
       "      <td>0.000000</td>\n",
       "      <td>0.00000</td>\n",
       "      <td>0.0</td>\n",
       "      <td>NaN</td>\n",
       "      <td>NaN</td>\n",
       "      <td>...</td>\n",
       "      <td>2006</td>\n",
       "      <td>rejected</td>\n",
       "      <td>0</td>\n",
       "      <td>0</td>\n",
       "      <td>0</td>\n",
       "      <td>0</td>\n",
       "      <td>0</td>\n",
       "      <td>0.0</td>\n",
       "      <td>0</td>\n",
       "      <td>4</td>\n",
       "    </tr>\n",
       "    <tr>\n",
       "      <th>2</th>\n",
       "      <td>59852</td>\n",
       "      <td>0.000000</td>\n",
       "      <td>This is such an urgent design problem; kudos t...</td>\n",
       "      <td>0.000000</td>\n",
       "      <td>0.0</td>\n",
       "      <td>0.000000</td>\n",
       "      <td>0.00000</td>\n",
       "      <td>0.0</td>\n",
       "      <td>NaN</td>\n",
       "      <td>NaN</td>\n",
       "      <td>...</td>\n",
       "      <td>2006</td>\n",
       "      <td>rejected</td>\n",
       "      <td>0</td>\n",
       "      <td>0</td>\n",
       "      <td>0</td>\n",
       "      <td>0</td>\n",
       "      <td>0</td>\n",
       "      <td>0.0</td>\n",
       "      <td>0</td>\n",
       "      <td>4</td>\n",
       "    </tr>\n",
       "    <tr>\n",
       "      <th>3</th>\n",
       "      <td>59855</td>\n",
       "      <td>0.000000</td>\n",
       "      <td>Is this something I'll be able to install on m...</td>\n",
       "      <td>0.000000</td>\n",
       "      <td>0.0</td>\n",
       "      <td>0.000000</td>\n",
       "      <td>0.00000</td>\n",
       "      <td>0.0</td>\n",
       "      <td>NaN</td>\n",
       "      <td>NaN</td>\n",
       "      <td>...</td>\n",
       "      <td>2006</td>\n",
       "      <td>rejected</td>\n",
       "      <td>0</td>\n",
       "      <td>0</td>\n",
       "      <td>0</td>\n",
       "      <td>0</td>\n",
       "      <td>0</td>\n",
       "      <td>0.0</td>\n",
       "      <td>0</td>\n",
       "      <td>4</td>\n",
       "    </tr>\n",
       "    <tr>\n",
       "      <th>4</th>\n",
       "      <td>59856</td>\n",
       "      <td>0.893617</td>\n",
       "      <td>haha you guys are a bunch of losers.</td>\n",
       "      <td>0.021277</td>\n",
       "      <td>0.0</td>\n",
       "      <td>0.021277</td>\n",
       "      <td>0.87234</td>\n",
       "      <td>0.0</td>\n",
       "      <td>0.0</td>\n",
       "      <td>0.0</td>\n",
       "      <td>...</td>\n",
       "      <td>2006</td>\n",
       "      <td>rejected</td>\n",
       "      <td>0</td>\n",
       "      <td>0</td>\n",
       "      <td>0</td>\n",
       "      <td>1</td>\n",
       "      <td>0</td>\n",
       "      <td>0.0</td>\n",
       "      <td>4</td>\n",
       "      <td>47</td>\n",
       "    </tr>\n",
       "  </tbody>\n",
       "</table>\n",
       "<p>5 rows × 45 columns</p>\n",
       "</div>"
      ],
      "text/plain": [
       "      id    target                                       comment_text  \\\n",
       "0  59848  0.000000  This is so cool. It's like, 'would you want yo...   \n",
       "1  59849  0.000000  Thank you!! This would make my life a lot less...   \n",
       "2  59852  0.000000  This is such an urgent design problem; kudos t...   \n",
       "3  59855  0.000000  Is this something I'll be able to install on m...   \n",
       "4  59856  0.893617               haha you guys are a bunch of losers.   \n",
       "\n",
       "   severe_toxicity  obscene  identity_attack   insult  threat  asian  atheist  \\\n",
       "0         0.000000      0.0         0.000000  0.00000     0.0    NaN      NaN   \n",
       "1         0.000000      0.0         0.000000  0.00000     0.0    NaN      NaN   \n",
       "2         0.000000      0.0         0.000000  0.00000     0.0    NaN      NaN   \n",
       "3         0.000000      0.0         0.000000  0.00000     0.0    NaN      NaN   \n",
       "4         0.021277      0.0         0.021277  0.87234     0.0    0.0      0.0   \n",
       "\n",
       "   ...  article_id    rating  funny  wow  sad  likes  disagree  \\\n",
       "0  ...        2006  rejected      0    0    0      0         0   \n",
       "1  ...        2006  rejected      0    0    0      0         0   \n",
       "2  ...        2006  rejected      0    0    0      0         0   \n",
       "3  ...        2006  rejected      0    0    0      0         0   \n",
       "4  ...        2006  rejected      0    0    0      1         0   \n",
       "\n",
       "   sexual_explicit  identity_annotator_count  toxicity_annotator_count  \n",
       "0              0.0                         0                         4  \n",
       "1              0.0                         0                         4  \n",
       "2              0.0                         0                         4  \n",
       "3              0.0                         0                         4  \n",
       "4              0.0                         4                        47  \n",
       "\n",
       "[5 rows x 45 columns]"
      ]
     },
     "execution_count": 5,
     "metadata": {},
     "output_type": "execute_result"
    }
   ],
   "source": [
    "train.head()"
   ]
  },
  {
   "cell_type": "markdown",
   "metadata": {
    "papermill": {
     "duration": 0.036633,
     "end_time": "2021-06-24T16:03:00.628240",
     "exception": false,
     "start_time": "2021-06-24T16:03:00.591607",
     "status": "completed"
    },
    "tags": []
   },
   "source": [
    "### Visualizing Non-null Target distribuition"
   ]
  },
  {
   "cell_type": "code",
   "execution_count": 6,
   "metadata": {
    "_kg_hide-input": true,
    "execution": {
     "iopub.execute_input": "2021-06-24T16:03:00.707972Z",
     "iopub.status.busy": "2021-06-24T16:03:00.707361Z",
     "iopub.status.idle": "2021-06-24T16:03:03.518383Z",
     "shell.execute_reply": "2021-06-24T16:03:03.517948Z",
     "shell.execute_reply.started": "2021-06-24T14:16:58.58506Z"
    },
    "papermill": {
     "duration": 2.853012,
     "end_time": "2021-06-24T16:03:03.518507",
     "exception": false,
     "start_time": "2021-06-24T16:03:00.665495",
     "status": "completed"
    },
    "tags": []
   },
   "outputs": [
    {
     "data": {
      "image/png": "[encoded data removed]",
      "text/plain": [
       "<Figure size 720x432 with 1 Axes>"
      ]
     },
     "metadata": {
      "needs_background": "light"
     },
     "output_type": "display_data"
    }
   ],
   "source": [
    "plt.figure(figsize=(10,6))\n",
    "graph_1 = sns.distplot(train[train['target'] > 0]['target'], color = 'red')\n",
    "plt.title('Toxicity (Target) Distribution')\n",
    "plt.xlabel(\"Toxicity Rate\")\n",
    "plt.ylabel(\"Distribution\") \n",
    "plt.show()"
   ]
  },
  {
   "cell_type": "markdown",
   "metadata": {
    "papermill": {
     "duration": 0.036657,
     "end_time": "2021-06-24T16:03:03.594059",
     "exception": false,
     "start_time": "2021-06-24T16:03:03.557402",
     "status": "completed"
    },
    "tags": []
   },
   "source": [
    "### Non-null Sub-classes Distribution"
   ]
  },
  {
   "cell_type": "code",
   "execution_count": 7,
   "metadata": {
    "_kg_hide-input": true,
    "execution": {
     "iopub.execute_input": "2021-06-24T16:03:03.689203Z",
     "iopub.status.busy": "2021-06-24T16:03:03.688412Z",
     "iopub.status.idle": "2021-06-24T16:03:09.388511Z",
     "shell.execute_reply": "2021-06-24T16:03:09.388027Z",
     "shell.execute_reply.started": "2021-06-24T14:17:01.534955Z"
    },
    "papermill": {
     "duration": 5.749443,
     "end_time": "2021-06-24T16:03:09.388644",
     "exception": false,
     "start_time": "2021-06-24T16:03:03.639201",
     "status": "completed"
    },
    "tags": []
   },
   "outputs": [
    {
     "data": {
      "image/png": "[encoded data removed]",
      "text/plain": [
       "<Figure size 1080x432 with 1 Axes>"
      ]
     },
     "metadata": {
      "needs_background": "light"
     },
     "output_type": "display_data"
    }
   ],
   "source": [
    "comment_adjective = ['severe_toxicity', 'obscene', 'identity_attack', 'insult', 'threat', 'sexual_explicit']\n",
    "\n",
    "plt.figure(figsize=(15,6))\n",
    "\n",
    "for col in comment_adjective:\n",
    "    graph_2 = sns.distplot(train[train[col] > 0][col], label=col, hist=False)\n",
    "    plt.xlabel(\"Rate\", fontsize=16)\n",
    "    plt.ylabel(\"Distribution\", fontsize=16)\n",
    "    plt.legend(loc=1, prop={'size': 14})\n",
    "\n",
    "plt.show()"
   ]
  },
  {
   "cell_type": "markdown",
   "metadata": {
    "papermill": {
     "duration": 0.038145,
     "end_time": "2021-06-24T16:03:09.466017",
     "exception": false,
     "start_time": "2021-06-24T16:03:09.427872",
     "status": "completed"
    },
    "tags": []
   },
   "source": [
    "# ======== Phase 2 ========"
   ]
  },
  {
   "cell_type": "markdown",
   "metadata": {
    "papermill": {
     "duration": 0.038031,
     "end_time": "2021-06-24T16:03:09.542455",
     "exception": false,
     "start_time": "2021-06-24T16:03:09.504424",
     "status": "completed"
    },
    "tags": []
   },
   "source": [
    "# Data Pre-processing"
   ]
  },
  {
   "cell_type": "markdown",
   "metadata": {
    "papermill": {
     "duration": 0.037734,
     "end_time": "2021-06-24T16:03:09.618581",
     "exception": false,
     "start_time": "2021-06-24T16:03:09.580847",
     "status": "completed"
    },
    "tags": []
   },
   "source": [
    "### Embeddings"
   ]
  },
  {
   "cell_type": "markdown",
   "metadata": {
    "papermill": {
     "duration": 0.038315,
     "end_time": "2021-06-24T16:03:09.695101",
     "exception": false,
     "start_time": "2021-06-24T16:03:09.656786",
     "status": "completed"
    },
    "tags": []
   },
   "source": [
    "GloVe pre-trained word vectors: https://www.kaggle.com/tides94/pickled-glove-6b-300d\n",
    "\n",
    "6B tokens, 300d vectors"
   ]
  },
  {
   "cell_type": "code",
   "execution_count": 8,
   "metadata": {
    "execution": {
     "iopub.execute_input": "2021-06-24T16:03:09.775441Z",
     "iopub.status.busy": "2021-06-24T16:03:09.774690Z",
     "iopub.status.idle": "2021-06-24T16:03:09.777060Z",
     "shell.execute_reply": "2021-06-24T16:03:09.777440Z",
     "shell.execute_reply.started": "2021-06-24T14:17:07.142226Z"
    },
    "papermill": {
     "duration": 0.04432,
     "end_time": "2021-06-24T16:03:09.777570",
     "exception": false,
     "start_time": "2021-06-24T16:03:09.733250",
     "status": "completed"
    },
    "tags": []
   },
   "outputs": [],
   "source": [
    "#!mkdir '/root/.kaggle'"
   ]
  },
  {
   "cell_type": "code",
   "execution_count": 9,
   "metadata": {
    "execution": {
     "iopub.execute_input": "2021-06-24T16:03:09.857632Z",
     "iopub.status.busy": "2021-06-24T16:03:09.856942Z",
     "iopub.status.idle": "2021-06-24T16:03:09.859176Z",
     "shell.execute_reply": "2021-06-24T16:03:09.859566Z",
     "shell.execute_reply.started": "2021-06-24T14:17:07.149031Z"
    },
    "papermill": {
     "duration": 0.04389,
     "end_time": "2021-06-24T16:03:09.859684",
     "exception": false,
     "start_time": "2021-06-24T16:03:09.815794",
     "status": "completed"
    },
    "tags": []
   },
   "outputs": [],
   "source": [
    "#!cp '../input/my-json/kaggle.json' '/root/.kaggle'"
   ]
  },
  {
   "cell_type": "code",
   "execution_count": 10,
   "metadata": {
    "execution": {
     "iopub.execute_input": "2021-06-24T16:03:09.939045Z",
     "iopub.status.busy": "2021-06-24T16:03:09.938586Z",
     "iopub.status.idle": "2021-06-24T16:03:09.942168Z",
     "shell.execute_reply": "2021-06-24T16:03:09.941777Z",
     "shell.execute_reply.started": "2021-06-24T14:17:07.164578Z"
    },
    "papermill": {
     "duration": 0.044214,
     "end_time": "2021-06-24T16:03:09.942270",
     "exception": false,
     "start_time": "2021-06-24T16:03:09.898056",
     "status": "completed"
    },
    "tags": []
   },
   "outputs": [],
   "source": [
    "#!kaggle datasets download -d danielwillgeorge/glove6b100dtxt"
   ]
  },
  {
   "cell_type": "code",
   "execution_count": 11,
   "metadata": {
    "execution": {
     "iopub.execute_input": "2021-06-24T16:03:10.021735Z",
     "iopub.status.busy": "2021-06-24T16:03:10.021244Z",
     "iopub.status.idle": "2021-06-24T16:03:10.024432Z",
     "shell.execute_reply": "2021-06-24T16:03:10.025333Z",
     "shell.execute_reply.started": "2021-06-24T14:17:07.172303Z"
    },
    "papermill": {
     "duration": 0.044954,
     "end_time": "2021-06-24T16:03:10.025468",
     "exception": false,
     "start_time": "2021-06-24T16:03:09.980514",
     "status": "completed"
    },
    "tags": []
   },
   "outputs": [],
   "source": [
    "#!unzip \"./glove6b100dtxt.zip\""
   ]
  },
  {
   "cell_type": "code",
   "execution_count": 12,
   "metadata": {
    "execution": {
     "iopub.execute_input": "2021-06-24T16:03:10.106313Z",
     "iopub.status.busy": "2021-06-24T16:03:10.105084Z",
     "iopub.status.idle": "2021-06-24T16:03:10.107749Z",
     "shell.execute_reply": "2021-06-24T16:03:10.107356Z",
     "shell.execute_reply.started": "2021-06-24T14:17:07.187248Z"
    },
    "papermill": {
     "duration": 0.043888,
     "end_time": "2021-06-24T16:03:10.107852",
     "exception": false,
     "start_time": "2021-06-24T16:03:10.063964",
     "status": "completed"
    },
    "tags": []
   },
   "outputs": [],
   "source": [
    "#!rm \"./pickled-glove840b300d-for-10sec-loading.zip\""
   ]
  },
  {
   "cell_type": "code",
   "execution_count": 13,
   "metadata": {
    "execution": {
     "iopub.execute_input": "2021-06-24T16:03:10.191256Z",
     "iopub.status.busy": "2021-06-24T16:03:10.190370Z",
     "iopub.status.idle": "2021-06-24T16:03:10.193600Z",
     "shell.execute_reply": "2021-06-24T16:03:10.194023Z",
     "shell.execute_reply.started": "2021-06-24T14:17:07.19576Z"
    },
    "papermill": {
     "duration": 0.047629,
     "end_time": "2021-06-24T16:03:10.194135",
     "exception": false,
     "start_time": "2021-06-24T16:03:10.146506",
     "status": "completed"
    },
    "tags": []
   },
   "outputs": [
    {
     "data": {
      "text/plain": [
       "' GLOVE_EMBEDDING_PATH = \"./glove.6B.100d.txt\"\\n\\nimport pickle\\n\\ndef load_embeddings(path):\\n    with open(path,\\'rb\\') as f:\\n        emb_arr = pickle.load(f)\\n    return emb_arr\\n\\nglove_embeddings = load_embeddings(GLOVE_EMBEDDING_PATH)\\nprint(\\'Found and loaded {} word vectors\\'.format(len(glove_embeddings)))\\n\\n#!rm \"./glove.840B.300d.pkl\"\\n\\n\"check_coverage\" goes through a given vocabulary and tries to find word vectors in embedding matrix. \"build_vocab\" builds a ordered dictionary of words and their frequency in the text corpus.\\n\\nimport operator \\n\\ndef check_coverage(vocab,embeddings_index):\\n    a = {}\\n    oov = {}\\n    k = 0\\n    i = 0\\n    for word in tqdm(vocab):\\n        try:\\n            a[word] = embeddings_index[word]\\n            k += vocab[word]\\n        except:\\n\\n            oov[word] = vocab[word]\\n            i += vocab[word]\\n            pass\\n\\n    print(\\'Found embeddings for {:.2%} of vocab\\'.format(len(a) / len(vocab)))\\n    print(\\'Found embeddings for  {:.2%} of all text\\'.format(k / (k + i)))\\n    sorted_x = sorted(oov.items(), key=operator.itemgetter(1))[::-1]\\n\\n    return sorted_x\\n\\ndef build_vocab(sentences, verbose =  True):\\n    \\n    :param sentences: list of list of words\\n    :return: dictionary of words and their count\\n    \\n    vocab = {}\\n    for sentence in tqdm(sentences, disable = (not verbose)):\\n        for word in sentence:\\n            try:\\n                vocab[word] += 1\\n            except KeyError:\\n                vocab[word] = 1\\n    return vocab\\n\\nvocab = build_vocab(list(train[\\'comment_text\\'].apply(lambda x:x.split())))\\noov = check_coverage(vocab,glove_embeddings)\\noov[:10]\\n\\n### Symbols in GloVe\\n\\nimport string\\nletter_digit_list = string.ascii_letters + string.digits + \\' \\'\\nletter_digit_list += \"\\'\"\\n\\nSymbols that have embedding vectors in GloVe:\\n\\nglove_chars = \\'\\'.join([c for c in tqdm(glove_embeddings) if len(c) == 1])\\nglove_symbols = \\'\\'.join([c for c in glove_chars if not c in letter_digit_list])\\nglove_symbols\\n\\nSymbols that have no embedding vectors in GloVe:\\n\\njigsaw_chars = build_vocab(list(train[\"comment_text\"]))\\n\\njigsaw_symbols = \\'\\'.join([c for c in jigsaw_chars if not c in letter_digit_list])\\njigsaw_symbols\\n\\nsymbols_to_delete = \\'\\'.join([c for c in jigsaw_symbols if not c in glove_symbols])\\nsymbols_to_delete\\n\\nsymbols_to_isolate = \\'\\'.join([c for c in jigsaw_symbols if c in glove_symbols])\\nsymbols_to_isolate\\n\\ndel glove_embeddings\\ndel vocab\\ndel glove_chars\\ndel glove_symbols\\n\\ngc.collect() '"
      ]
     },
     "execution_count": 13,
     "metadata": {},
     "output_type": "execute_result"
    }
   ],
   "source": [
    "\"\"\" GLOVE_EMBEDDING_PATH = \"./glove.6B.100d.txt\"\n",
    "\n",
    "import pickle\n",
    "\n",
    "def load_embeddings(path):\n",
    "    with open(path,'rb') as f:\n",
    "        emb_arr = pickle.load(f)\n",
    "    return emb_arr\n",
    "\n",
    "glove_embeddings = load_embeddings(GLOVE_EMBEDDING_PATH)\n",
    "print('Found and loaded {} word vectors'.format(len(glove_embeddings)))\n",
    "\n",
    "#!rm \"./glove.840B.300d.pkl\"\n",
    "\n",
    "\"check_coverage\" goes through a given vocabulary and tries to find word vectors in embedding matrix. \"build_vocab\" builds a ordered dictionary of words and their frequency in the text corpus.\n",
    "\n",
    "import operator \n",
    "\n",
    "def check_coverage(vocab,embeddings_index):\n",
    "    a = {}\n",
    "    oov = {}\n",
    "    k = 0\n",
    "    i = 0\n",
    "    for word in tqdm(vocab):\n",
    "        try:\n",
    "            a[word] = embeddings_index[word]\n",
    "            k += vocab[word]\n",
    "        except:\n",
    "\n",
    "            oov[word] = vocab[word]\n",
    "            i += vocab[word]\n",
    "            pass\n",
    "\n",
    "    print('Found embeddings for {:.2%} of vocab'.format(len(a) / len(vocab)))\n",
    "    print('Found embeddings for  {:.2%} of all text'.format(k / (k + i)))\n",
    "    sorted_x = sorted(oov.items(), key=operator.itemgetter(1))[::-1]\n",
    "\n",
    "    return sorted_x\n",
    "\n",
    "def build_vocab(sentences, verbose =  True):\n",
    "    \"\"\" \"\"\"\n",
    "    :param sentences: list of list of words\n",
    "    :return: dictionary of words and their count\n",
    "    \"\"\" \"\"\"\n",
    "    vocab = {}\n",
    "    for sentence in tqdm(sentences, disable = (not verbose)):\n",
    "        for word in sentence:\n",
    "            try:\n",
    "                vocab[word] += 1\n",
    "            except KeyError:\n",
    "                vocab[word] = 1\n",
    "    return vocab\n",
    "\n",
    "vocab = build_vocab(list(train['comment_text'].apply(lambda x:x.split())))\n",
    "oov = check_coverage(vocab,glove_embeddings)\n",
    "oov[:10]\n",
    "\n",
    "### Symbols in GloVe\n",
    "\n",
    "import string\n",
    "letter_digit_list = string.ascii_letters + string.digits + ' '\n",
    "letter_digit_list += \"'\"\n",
    "\n",
    "Symbols that have embedding vectors in GloVe:\n",
    "\n",
    "glove_chars = ''.join([c for c in tqdm(glove_embeddings) if len(c) == 1])\n",
    "glove_symbols = ''.join([c for c in glove_chars if not c in letter_digit_list])\n",
    "glove_symbols\n",
    "\n",
    "Symbols that have no embedding vectors in GloVe:\n",
    "\n",
    "jigsaw_chars = build_vocab(list(train[\"comment_text\"]))\n",
    "\n",
    "jigsaw_symbols = ''.join([c for c in jigsaw_chars if not c in letter_digit_list])\n",
    "jigsaw_symbols\n",
    "\n",
    "symbols_to_delete = ''.join([c for c in jigsaw_symbols if not c in glove_symbols])\n",
    "symbols_to_delete\n",
    "\n",
    "symbols_to_isolate = ''.join([c for c in jigsaw_symbols if c in glove_symbols])\n",
    "symbols_to_isolate\n",
    "\n",
    "del glove_embeddings\n",
    "del vocab\n",
    "del glove_chars\n",
    "del glove_symbols\n",
    "\n",
    "gc.collect() \"\"\""
   ]
  },
  {
   "cell_type": "code",
   "execution_count": 14,
   "metadata": {
    "execution": {
     "iopub.execute_input": "2021-06-24T16:03:10.278658Z",
     "iopub.status.busy": "2021-06-24T16:03:10.277909Z",
     "iopub.status.idle": "2021-06-24T16:03:10.280196Z",
     "shell.execute_reply": "2021-06-24T16:03:10.280557Z",
     "shell.execute_reply.started": "2021-06-24T14:17:07.209232Z"
    },
    "papermill": {
     "duration": 0.048076,
     "end_time": "2021-06-24T16:03:10.280674",
     "exception": false,
     "start_time": "2021-06-24T16:03:10.232598",
     "status": "completed"
    },
    "tags": []
   },
   "outputs": [],
   "source": [
    "#from nltk.tokenize.treebank import TreebankWordTokenizer\n",
    "#tokenizer = TreebankWordTokenizer()\n",
    "\n",
    "\n",
    "#isolate_dict = {ord(c):f' {c} ' for c in symbols_to_isolate}\n",
    "#remove_dict = {ord(c):f'' for c in symbols_to_delete}\n",
    "\n",
    "\n",
    "\"\"\" def handle_punctuation(x):\n",
    "    x = x.replace(remove_dict)\n",
    "    x = x.replace(isolate_dict)\n",
    "    return x \"\"\"\n",
    "\n",
    "\"\"\"def handle_punctuation(x):\n",
    "    x = x.translate(remove_dict)\n",
    "    x = x.translate(isolate_dict)\n",
    "    return x \"\"\"\n",
    "def cleaning_text(x):\n",
    "    punct = \"/-'?!.,#$%\\'()*+-/:;<=>@[\\\\]^_`{|}~`\" + '\"\"“”’' + '∞θ÷α•à−β∅³π‘₹´°£€\\×™√²—–&'\n",
    "    def clean_special_chars(text, punct):\n",
    "        for p in punct:\n",
    "            text = text.replace(p, ' ')\n",
    "        return text\n",
    "\n",
    "    x = clean_special_chars(x, punct)\n",
    "    return x\n",
    "\n",
    "\"\"\"def handle_contractions(x):\n",
    "    x = tokenizer.tokenize(x)\n",
    "    return x \"\"\"\n",
    "\n",
    "def fix_quote(x):\n",
    "    x = [x_[1:] if x_.startswith(\"'\") else x_ for x_ in x]\n",
    "    x = ' '.join(x)\n",
    "    return x\n",
    "\n",
    "def preprocess(x):\n",
    "    #x = handle_punctuation(x)\n",
    "    x = cleaning_text(x)\n",
    "    #x = handle_contractions(x)\n",
    "    x = fix_quote(x)\n",
    "    return x"
   ]
  },
  {
   "cell_type": "code",
   "execution_count": 15,
   "metadata": {
    "execution": {
     "iopub.execute_input": "2021-06-24T16:03:10.364442Z",
     "iopub.status.busy": "2021-06-24T16:03:10.363414Z",
     "iopub.status.idle": "2021-06-24T16:03:12.422502Z",
     "shell.execute_reply": "2021-06-24T16:03:12.421606Z",
     "shell.execute_reply.started": "2021-06-24T14:17:07.220388Z"
    },
    "papermill": {
     "duration": 2.103332,
     "end_time": "2021-06-24T16:03:12.422645",
     "exception": false,
     "start_time": "2021-06-24T16:03:10.319313",
     "status": "completed"
    },
    "tags": []
   },
   "outputs": [],
   "source": [
    "# Make sure all comment_text values are strings\n",
    "train['comment_text'] = train['comment_text'].astype(str) \n",
    "\n",
    "# List all identities\n",
    "identity_columns = [\n",
    "    'male', 'female', 'homosexual_gay_or_lesbian', 'christian', 'jewish',\n",
    "    'muslim', 'black', 'white', 'psychiatric_or_mental_illness']\n",
    "\n",
    "# Convert taget and identity columns to booleans\n",
    "def convert_to_bool(df, col_name):\n",
    "    df[col_name] = np.where(df[col_name] >= 0.5, True, False)\n",
    "    \n",
    "def convert_dataframe_to_bool(df):\n",
    "    bool_df = df.copy()\n",
    "    for col in ['target'] + identity_columns:\n",
    "        convert_to_bool(bool_df, col)\n",
    "    return bool_df\n",
    "\n",
    "train = convert_dataframe_to_bool(train)"
   ]
  },
  {
   "cell_type": "code",
   "execution_count": 16,
   "metadata": {
    "execution": {
     "iopub.execute_input": "2021-06-24T16:03:12.505339Z",
     "iopub.status.busy": "2021-06-24T16:03:12.504564Z",
     "iopub.status.idle": "2021-06-24T16:03:12.507024Z",
     "shell.execute_reply": "2021-06-24T16:03:12.506639Z",
     "shell.execute_reply.started": "2021-06-24T14:17:09.359514Z"
    },
    "papermill": {
     "duration": 0.044513,
     "end_time": "2021-06-24T16:03:12.507128",
     "exception": false,
     "start_time": "2021-06-24T16:03:12.462615",
     "status": "completed"
    },
    "tags": []
   },
   "outputs": [],
   "source": [
    "#train['comment_text'] = train['comment_text'].progress_apply(lambda x:preprocess(x))"
   ]
  },
  {
   "cell_type": "code",
   "execution_count": 17,
   "metadata": {
    "execution": {
     "iopub.execute_input": "2021-06-24T16:03:12.589429Z",
     "iopub.status.busy": "2021-06-24T16:03:12.588559Z",
     "iopub.status.idle": "2021-06-24T16:03:14.043125Z",
     "shell.execute_reply": "2021-06-24T16:03:14.043932Z",
     "shell.execute_reply.started": "2021-06-24T14:17:09.367816Z"
    },
    "papermill": {
     "duration": 1.498423,
     "end_time": "2021-06-24T16:03:14.044139",
     "exception": false,
     "start_time": "2021-06-24T16:03:12.545716",
     "status": "completed"
    },
    "tags": []
   },
   "outputs": [
    {
     "name": "stdout",
     "output_type": "stream",
     "text": [
      "1443899 train comments, 360975 validate comments\n"
     ]
    }
   ],
   "source": [
    "train_df, validate_df = model_selection.train_test_split(train, test_size=0.2)\n",
    "print('%d train comments, %d validate comments' % (len(train_df), len(validate_df)))"
   ]
  },
  {
   "cell_type": "markdown",
   "metadata": {
    "papermill": {
     "duration": 0.038865,
     "end_time": "2021-06-24T16:03:14.122539",
     "exception": false,
     "start_time": "2021-06-24T16:03:14.083674",
     "status": "completed"
    },
    "tags": []
   },
   "source": [
    "### Padding Function"
   ]
  },
  {
   "cell_type": "code",
   "execution_count": 18,
   "metadata": {
    "execution": {
     "iopub.execute_input": "2021-06-24T16:03:14.238456Z",
     "iopub.status.busy": "2021-06-24T16:03:14.217853Z",
     "iopub.status.idle": "2021-06-24T16:04:37.146058Z",
     "shell.execute_reply": "2021-06-24T16:04:37.146562Z",
     "shell.execute_reply.started": "2021-06-24T14:17:11.223239Z"
    },
    "papermill": {
     "duration": 82.985558,
     "end_time": "2021-06-24T16:04:37.146783",
     "exception": false,
     "start_time": "2021-06-24T16:03:14.161225",
     "status": "completed"
    },
    "tags": []
   },
   "outputs": [],
   "source": [
    "MAX_NUM_WORDS = 10000\n",
    "TARGET_COLUMN = 'target'\n",
    "TEXT_COLUMN = 'comment_text'\n",
    "\n",
    "# Create a text tokenizer.\n",
    "tokenizer = Tokenizer(num_words=MAX_NUM_WORDS)\n",
    "tokenizer.fit_on_texts(train[TEXT_COLUMN])\n",
    "\n",
    "# All comments must be truncated or padded to be the same length.\n",
    "MAX_SEQUENCE_LENGTH = 250\n",
    "def pad_text(texts, tokenizer):\n",
    "    return pad_sequences(tokenizer.texts_to_sequences(texts), maxlen=MAX_SEQUENCE_LENGTH)"
   ]
  },
  {
   "cell_type": "code",
   "execution_count": 19,
   "metadata": {
    "execution": {
     "iopub.execute_input": "2021-06-24T16:04:37.231823Z",
     "iopub.status.busy": "2021-06-24T16:04:37.231278Z",
     "iopub.status.idle": "2021-06-24T16:04:37.236931Z",
     "shell.execute_reply": "2021-06-24T16:04:37.237313Z",
     "shell.execute_reply.started": "2021-06-24T14:18:40.357656Z"
    },
    "papermill": {
     "duration": 0.050581,
     "end_time": "2021-06-24T16:04:37.237442",
     "exception": false,
     "start_time": "2021-06-24T16:04:37.186861",
     "status": "completed"
    },
    "tags": []
   },
   "outputs": [
    {
     "data": {
      "text/plain": [
       "\"\\nidentity_columns = ['asian', 'atheist',\\n       'bisexual', 'black', 'buddhist', 'christian', 'female',\\n       'heterosexual', 'hindu', 'homosexual_gay_or_lesbian',\\n       'intellectual_or_learning_disability', 'jewish', 'latino', 'male',\\n       'muslim', 'other_disability', 'other_gender',\\n       'other_race_or_ethnicity', 'other_religion',\\n       'other_sexual_orientation', 'physical_disability',\\n       'psychiatric_or_mental_illness', 'transgender', 'white']\\n# Overall\\nweights = np.ones((len(train_df),)) / 4\\n# Subgroup\\nweights += (train_df[identity_columns].fillna(0).values>=0.5).sum(axis=1).astype(bool).astype(np.int) / 4\\n# Background Positive, Subgroup Negative\\nweights += (( (train_df['target'].values>=0.5).astype(bool).astype(np.int) +\\n   (train_df[identity_columns].fillna(0).values<0.5).sum(axis=1).astype(bool).astype(np.int) ) > 1 ).astype(bool).astype(np.int) / 4\\n# Background Negative, Subgroup Positive\\nweights += (( (train_df['target'].values<0.5).astype(bool).astype(np.int) +\\n   (train_df[identity_columns].fillna(0).values>=0.5).sum(axis=1).astype(bool).astype(np.int) ) > 1 ).astype(bool).astype(np.int) / 4\\nloss_weight = 1.0 / weights.mean()\\ntrain_label = np.vstack([(train_df['target'].values>=0.5).astype(np.int),weights]).T\\n\""
      ]
     },
     "execution_count": 19,
     "metadata": {},
     "output_type": "execute_result"
    }
   ],
   "source": [
    "\"\"\"\n",
    "identity_columns = ['asian', 'atheist',\n",
    "       'bisexual', 'black', 'buddhist', 'christian', 'female',\n",
    "       'heterosexual', 'hindu', 'homosexual_gay_or_lesbian',\n",
    "       'intellectual_or_learning_disability', 'jewish', 'latino', 'male',\n",
    "       'muslim', 'other_disability', 'other_gender',\n",
    "       'other_race_or_ethnicity', 'other_religion',\n",
    "       'other_sexual_orientation', 'physical_disability',\n",
    "       'psychiatric_or_mental_illness', 'transgender', 'white']\n",
    "# Overall\n",
    "weights = np.ones((len(train_df),)) / 4\n",
    "# Subgroup\n",
    "weights += (train_df[identity_columns].fillna(0).values>=0.5).sum(axis=1).astype(bool).astype(np.int) / 4\n",
    "# Background Positive, Subgroup Negative\n",
    "weights += (( (train_df['target'].values>=0.5).astype(bool).astype(np.int) +\n",
    "   (train_df[identity_columns].fillna(0).values<0.5).sum(axis=1).astype(bool).astype(np.int) ) > 1 ).astype(bool).astype(np.int) / 4\n",
    "# Background Negative, Subgroup Positive\n",
    "weights += (( (train_df['target'].values<0.5).astype(bool).astype(np.int) +\n",
    "   (train_df[identity_columns].fillna(0).values>=0.5).sum(axis=1).astype(bool).astype(np.int) ) > 1 ).astype(bool).astype(np.int) / 4\n",
    "loss_weight = 1.0 / weights.mean()\n",
    "train_label = np.vstack([(train_df['target'].values>=0.5).astype(np.int),weights]).T\n",
    "\"\"\""
   ]
  },
  {
   "cell_type": "markdown",
   "metadata": {
    "papermill": {
     "duration": 0.038936,
     "end_time": "2021-06-24T16:04:37.315550",
     "exception": false,
     "start_time": "2021-06-24T16:04:37.276614",
     "status": "completed"
    },
    "tags": []
   },
   "source": [
    "# ======== Phase 3 ========"
   ]
  },
  {
   "cell_type": "markdown",
   "metadata": {
    "papermill": {
     "duration": 0.039151,
     "end_time": "2021-06-24T16:04:37.393654",
     "exception": false,
     "start_time": "2021-06-24T16:04:37.354503",
     "status": "completed"
    },
    "tags": []
   },
   "source": [
    "# Pre-training Dataset"
   ]
  },
  {
   "cell_type": "code",
   "execution_count": 20,
   "metadata": {
    "execution": {
     "iopub.execute_input": "2021-06-24T16:04:37.478980Z",
     "iopub.status.busy": "2021-06-24T16:04:37.478187Z",
     "iopub.status.idle": "2021-06-24T16:04:37.481934Z",
     "shell.execute_reply": "2021-06-24T16:04:37.481553Z",
     "shell.execute_reply.started": "2021-06-24T14:18:40.366666Z"
    },
    "papermill": {
     "duration": 0.048061,
     "end_time": "2021-06-24T16:04:37.482036",
     "exception": false,
     "start_time": "2021-06-24T16:04:37.433975",
     "status": "completed"
    },
    "tags": []
   },
   "outputs": [
    {
     "data": {
      "text/plain": [
       "'\\n!kaggle datasets download -d fizzbuzz/cleaned-toxic-comments\\n\\n!unzip \"./cleaned-toxic-comments.zip\"\\n\\npre_data = \"./train_preprocessed.csv\"\\n\\n\\n## Get the Corpus of all the comments and related Toxicity fields\\n\\ndata = pd.read_csv(pre_data)\\ndata.head()\\n\\n## Dividing the dataset into features and labels:\\nFeatures = \"comment\"            \\nLabels = \"toxicity\"\\n\\nFeatures = data[\\'comment_text\\']\\nLabels = np.array([0 if y == 0 else 1 for y in data[\\'toxicity\\']])\\n\\n### Tokenizing and preprocessing the data\\n\\nNUM_WORDS = 40000 # Maximum number of unique words which need to be tokenized\\nMAXLEN = 50 # Maximum length of a sentence/ comment\\nPADDING = \\'post\\' # The type of padding done for sentences shorter than the Max len\\n\\ntokenizer = Tokenizer(num_words=NUM_WORDS)\\n\\n# Fit the tokenizer on the comments \\ntokenizer.fit_on_texts(Features)\\n\\n# Get the word index of the top 20000 words from the dataset\\nword_idx = tokenizer.word_index\\n\\n# Convert the string sentence to a sequence of their numerical values\\nFeature_sequences = tokenizer.texts_to_sequences(Features)\\n\\n# Pad the sequences to make them of uniform length\\npadded_sequences = pad_sequences(Feature_sequences, maxlen = MAXLEN, padding = PADDING)\\n\\nprint(\"The Transformation of sentence::\")\\nprint(\"\\n\\nThe normal Sentencen:\\n\")\\nprint(Features[2])\\nprint(\"\\n\\nThe tokenized sequence:\\n\")\\nprint(Feature_sequences[2])\\nprint(\"\\n\\nThe padded sequence:\\n\")\\nprint(padded_sequences[2])\\n\\n# Convert to array for passing through the model\\nX = np.array(padded_sequences)\\n'"
      ]
     },
     "execution_count": 20,
     "metadata": {},
     "output_type": "execute_result"
    }
   ],
   "source": [
    "\"\"\"\n",
    "!kaggle datasets download -d fizzbuzz/cleaned-toxic-comments\n",
    "\n",
    "!unzip \"./cleaned-toxic-comments.zip\"\n",
    "\n",
    "pre_data = \"./train_preprocessed.csv\"\n",
    "\n",
    "\n",
    "## Get the Corpus of all the comments and related Toxicity fields\n",
    "\n",
    "data = pd.read_csv(pre_data)\n",
    "data.head()\n",
    "\n",
    "## Dividing the dataset into features and labels:\n",
    "Features = \"comment\"            \n",
    "Labels = \"toxicity\"\n",
    "\n",
    "Features = data['comment_text']\n",
    "Labels = np.array([0 if y == 0 else 1 for y in data['toxicity']])\n",
    "\n",
    "### Tokenizing and preprocessing the data\n",
    "\n",
    "NUM_WORDS = 40000 # Maximum number of unique words which need to be tokenized\n",
    "MAXLEN = 50 # Maximum length of a sentence/ comment\n",
    "PADDING = 'post' # The type of padding done for sentences shorter than the Max len\n",
    "\n",
    "tokenizer = Tokenizer(num_words=NUM_WORDS)\n",
    "\n",
    "# Fit the tokenizer on the comments \n",
    "tokenizer.fit_on_texts(Features)\n",
    "\n",
    "# Get the word index of the top 20000 words from the dataset\n",
    "word_idx = tokenizer.word_index\n",
    "\n",
    "# Convert the string sentence to a sequence of their numerical values\n",
    "Feature_sequences = tokenizer.texts_to_sequences(Features)\n",
    "\n",
    "# Pad the sequences to make them of uniform length\n",
    "padded_sequences = pad_sequences(Feature_sequences, maxlen = MAXLEN, padding = PADDING)\n",
    "\n",
    "print(\"The Transformation of sentence::\")\n",
    "print(\"\\n\\nThe normal Sentencen:\\n\")\n",
    "print(Features[2])\n",
    "print(\"\\n\\nThe tokenized sequence:\\n\")\n",
    "print(Feature_sequences[2])\n",
    "print(\"\\n\\nThe padded sequence:\\n\")\n",
    "print(padded_sequences[2])\n",
    "\n",
    "# Convert to array for passing through the model\n",
    "X = np.array(padded_sequences)\n",
    "\"\"\""
   ]
  },
  {
   "cell_type": "markdown",
   "metadata": {
    "papermill": {
     "duration": 0.039105,
     "end_time": "2021-06-24T16:04:37.560829",
     "exception": false,
     "start_time": "2021-06-24T16:04:37.521724",
     "status": "completed"
    },
    "tags": []
   },
   "source": [
    "# ======== Phase 4 ========"
   ]
  },
  {
   "cell_type": "markdown",
   "metadata": {
    "papermill": {
     "duration": 0.039555,
     "end_time": "2021-06-24T16:04:37.639599",
     "exception": false,
     "start_time": "2021-06-24T16:04:37.600044",
     "status": "completed"
    },
    "tags": []
   },
   "source": [
    "# Training"
   ]
  },
  {
   "cell_type": "code",
   "execution_count": 21,
   "metadata": {
    "execution": {
     "iopub.execute_input": "2021-06-24T16:04:37.743274Z",
     "iopub.status.busy": "2021-06-24T16:04:37.738119Z",
     "iopub.status.idle": "2021-06-24T16:05:52.231794Z",
     "shell.execute_reply": "2021-06-24T16:05:52.231329Z",
     "shell.execute_reply.started": "2021-06-24T14:18:40.381267Z"
    },
    "papermill": {
     "duration": 74.552641,
     "end_time": "2021-06-24T16:05:52.231932",
     "exception": false,
     "start_time": "2021-06-24T16:04:37.679291",
     "status": "completed"
    },
    "tags": []
   },
   "outputs": [],
   "source": [
    "EMBEDDINGS_PATH = '../input/glove-6b-100d/glove.6B.100d.txt'\n",
    "EMBEDDINGS_DIMENSION = 100\n",
    "LEARNING_RATE = 0.0005\n",
    "NUM_EPOCHS = 5\n",
    "BATCH_SIZE = 128\n",
    "\n",
    "# Prepare data\n",
    "train_text = pad_text(train_df[TEXT_COLUMN], tokenizer)"
   ]
  },
  {
   "cell_type": "code",
   "execution_count": 22,
   "metadata": {
    "execution": {
     "iopub.execute_input": "2021-06-24T16:05:52.317327Z",
     "iopub.status.busy": "2021-06-24T16:05:52.316271Z",
     "iopub.status.idle": "2021-06-24T16:05:52.337506Z",
     "shell.execute_reply": "2021-06-24T16:05:52.337067Z",
     "shell.execute_reply.started": "2021-06-24T14:19:55.787674Z"
    },
    "papermill": {
     "duration": 0.065097,
     "end_time": "2021-06-24T16:05:52.337629",
     "exception": false,
     "start_time": "2021-06-24T16:05:52.272532",
     "status": "completed"
    },
    "tags": []
   },
   "outputs": [],
   "source": [
    "train_label = to_categorical(train_df[TARGET_COLUMN])"
   ]
  },
  {
   "cell_type": "code",
   "execution_count": 23,
   "metadata": {
    "execution": {
     "iopub.execute_input": "2021-06-24T16:05:52.687917Z",
     "iopub.status.busy": "2021-06-24T16:05:52.687014Z",
     "iopub.status.idle": "2021-06-24T16:05:52.691284Z",
     "shell.execute_reply": "2021-06-24T16:05:52.691654Z",
     "shell.execute_reply.started": "2021-06-24T14:19:55.817337Z"
    },
    "papermill": {
     "duration": 0.31284,
     "end_time": "2021-06-24T16:05:52.691802",
     "exception": false,
     "start_time": "2021-06-24T16:05:52.378962",
     "status": "completed"
    },
    "tags": []
   },
   "outputs": [
    {
     "data": {
      "text/plain": [
       "40"
      ]
     },
     "execution_count": 23,
     "metadata": {},
     "output_type": "execute_result"
    }
   ],
   "source": [
    "del train\n",
    "gc.collect()"
   ]
  },
  {
   "cell_type": "code",
   "execution_count": 24,
   "metadata": {
    "execution": {
     "iopub.execute_input": "2021-06-24T16:05:52.777097Z",
     "iopub.status.busy": "2021-06-24T16:05:52.776257Z",
     "iopub.status.idle": "2021-06-24T16:05:53.412692Z",
     "shell.execute_reply": "2021-06-24T16:05:53.412235Z",
     "shell.execute_reply.started": "2021-06-24T14:19:56.104171Z"
    },
    "papermill": {
     "duration": 0.680948,
     "end_time": "2021-06-24T16:05:53.412853",
     "exception": false,
     "start_time": "2021-06-24T16:05:52.731905",
     "status": "completed"
    },
    "tags": []
   },
   "outputs": [],
   "source": [
    "X_train, X_test, y_train, y_test=train_test_split(train_text, train_label, test_size=0.20, random_state=42)"
   ]
  },
  {
   "cell_type": "code",
   "execution_count": 25,
   "metadata": {
    "execution": {
     "iopub.execute_input": "2021-06-24T16:05:53.757109Z",
     "iopub.status.busy": "2021-06-24T16:05:53.756299Z",
     "iopub.status.idle": "2021-06-24T16:05:53.770597Z",
     "shell.execute_reply": "2021-06-24T16:05:53.771149Z",
     "shell.execute_reply.started": "2021-06-24T14:19:56.761702Z"
    },
    "papermill": {
     "duration": 0.31612,
     "end_time": "2021-06-24T16:05:53.771374",
     "exception": false,
     "start_time": "2021-06-24T16:05:53.455254",
     "status": "completed"
    },
    "tags": []
   },
   "outputs": [
    {
     "data": {
      "text/plain": [
       "40"
      ]
     },
     "execution_count": 25,
     "metadata": {},
     "output_type": "execute_result"
    }
   ],
   "source": [
    "gc.collect()"
   ]
  },
  {
   "cell_type": "markdown",
   "metadata": {
    "papermill": {
     "duration": 0.077227,
     "end_time": "2021-06-24T16:05:53.931363",
     "exception": false,
     "start_time": "2021-06-24T16:05:53.854136",
     "status": "completed"
    },
    "tags": []
   },
   "source": [
    "### Embedding Matrix"
   ]
  },
  {
   "cell_type": "code",
   "execution_count": 26,
   "metadata": {
    "execution": {
     "iopub.execute_input": "2021-06-24T16:05:54.084555Z",
     "iopub.status.busy": "2021-06-24T16:05:54.082993Z",
     "iopub.status.idle": "2021-06-24T16:06:09.669130Z",
     "shell.execute_reply": "2021-06-24T16:06:09.669752Z",
     "shell.execute_reply.started": "2021-06-24T14:19:57.00547Z"
    },
    "papermill": {
     "duration": 15.665981,
     "end_time": "2021-06-24T16:06:09.669929",
     "exception": false,
     "start_time": "2021-06-24T16:05:54.003948",
     "status": "completed"
    },
    "tags": []
   },
   "outputs": [
    {
     "name": "stdout",
     "output_type": "stream",
     "text": [
      "loading embeddings\n",
      "Embeddings loaded!\n"
     ]
    }
   ],
   "source": [
    "# Load embeddings\n",
    "print('loading embeddings')\n",
    "embeddings_index = {}\n",
    "with open(EMBEDDINGS_PATH) as f:\n",
    "    for line in f:\n",
    "        values = line.split()\n",
    "        word = values[0]\n",
    "        coefs = np.asarray(values[1:], dtype='float32')\n",
    "        embeddings_index[word] = coefs\n",
    "\n",
    "embedding_matrix = np.zeros((len(tokenizer.word_index) + 1,\n",
    "                                 EMBEDDINGS_DIMENSION))\n",
    "num_words_in_embedding = 0\n",
    "for word, i in tokenizer.word_index.items():\n",
    "    embedding_vector = embeddings_index.get(word)\n",
    "    if embedding_vector is not None:\n",
    "        num_words_in_embedding += 1\n",
    "        # words not found in embedding index will be all-zeros.\n",
    "        embedding_matrix[i] = embedding_vector\n",
    "print(\"Embeddings loaded!\")"
   ]
  },
  {
   "cell_type": "code",
   "execution_count": 27,
   "metadata": {
    "execution": {
     "iopub.execute_input": "2021-06-24T16:06:09.770567Z",
     "iopub.status.busy": "2021-06-24T16:06:09.770007Z",
     "iopub.status.idle": "2021-06-24T16:06:13.193387Z",
     "shell.execute_reply": "2021-06-24T16:06:13.192964Z",
     "shell.execute_reply.started": "2021-06-24T14:23:42.235777Z"
    },
    "papermill": {
     "duration": 3.476807,
     "end_time": "2021-06-24T16:06:13.193517",
     "exception": false,
     "start_time": "2021-06-24T16:06:09.716710",
     "status": "completed"
    },
    "tags": []
   },
   "outputs": [
    {
     "name": "stdout",
     "output_type": "stream",
     "text": [
      "Compiling model...\n",
      "Compiled model!\n"
     ]
    }
   ],
   "source": [
    "# Create model layers.\n",
    "model=Sequential()\n",
    "model.add(Embedding(len(tokenizer.word_index) + 1,100,input_length = 100,weights = [embedding_matrix],trainable = False))\n",
    "model.add(SpatialDropout1D(0.3))\n",
    "model.add(Bidirectional(LSTM(128,return_sequences=True)))\n",
    "model.add(Bidirectional(LSTM(128,return_sequences=True)))\n",
    "model.add(GlobalAveragePooling1D())\n",
    "model.add(Dense(512,activation = 'relu'))\n",
    "model.add(Dense(512,activation = 'relu'))\n",
    "model.add(Dense(2,activation='softmax'))\n",
    "\n",
    "# Compile model.\n",
    "print('Compiling model...')\n",
    "model.compile(loss='categorical_crossentropy',\n",
    "                  optimizer=Adam(lr=LEARNING_RATE),\n",
    "                  metrics=['acc'])\n",
    "print(\"Compiled model!\")"
   ]
  },
  {
   "cell_type": "code",
   "execution_count": 28,
   "metadata": {
    "execution": {
     "iopub.execute_input": "2021-06-24T16:06:13.283023Z",
     "iopub.status.busy": "2021-06-24T16:06:13.282040Z",
     "iopub.status.idle": "2021-06-24T16:06:13.288592Z",
     "shell.execute_reply": "2021-06-24T16:06:13.288115Z",
     "shell.execute_reply.started": "2021-06-24T14:23:45.275107Z"
    },
    "papermill": {
     "duration": 0.054074,
     "end_time": "2021-06-24T16:06:13.288723",
     "exception": false,
     "start_time": "2021-06-24T16:06:13.234649",
     "status": "completed"
    },
    "tags": []
   },
   "outputs": [
    {
     "name": "stdout",
     "output_type": "stream",
     "text": [
      "Model: \"sequential\"\n",
      "_________________________________________________________________\n",
      "Layer (type)                 Output Shape              Param #   \n",
      "=================================================================\n",
      "embedding (Embedding)        (None, 100, 100)          39770900  \n",
      "_________________________________________________________________\n",
      "spatial_dropout1d (SpatialDr (None, 100, 100)          0         \n",
      "_________________________________________________________________\n",
      "bidirectional (Bidirectional (None, 100, 256)          234496    \n",
      "_________________________________________________________________\n",
      "bidirectional_1 (Bidirection (None, 100, 256)          394240    \n",
      "_________________________________________________________________\n",
      "global_average_pooling1d (Gl (None, 256)               0         \n",
      "_________________________________________________________________\n",
      "dense (Dense)                (None, 512)               131584    \n",
      "_________________________________________________________________\n",
      "dense_1 (Dense)              (None, 512)               262656    \n",
      "_________________________________________________________________\n",
      "dense_2 (Dense)              (None, 2)                 1026      \n",
      "=================================================================\n",
      "Total params: 40,794,902\n",
      "Trainable params: 1,024,002\n",
      "Non-trainable params: 39,770,900\n",
      "_________________________________________________________________\n"
     ]
    }
   ],
   "source": [
    "model.summary()"
   ]
  },
  {
   "cell_type": "markdown",
   "metadata": {
    "papermill": {
     "duration": 0.041425,
     "end_time": "2021-06-24T16:06:13.372092",
     "exception": false,
     "start_time": "2021-06-24T16:06:13.330667",
     "status": "completed"
    },
    "tags": []
   },
   "source": [
    "## Pre-training on external data"
   ]
  },
  {
   "cell_type": "code",
   "execution_count": 29,
   "metadata": {
    "execution": {
     "iopub.execute_input": "2021-06-24T16:06:13.459343Z",
     "iopub.status.busy": "2021-06-24T16:06:13.458784Z",
     "iopub.status.idle": "2021-06-24T16:06:13.464003Z",
     "shell.execute_reply": "2021-06-24T16:06:13.464407Z",
     "shell.execute_reply.started": "2021-06-24T14:21:53.280338Z"
    },
    "papermill": {
     "duration": 0.051296,
     "end_time": "2021-06-24T16:06:13.464550",
     "exception": false,
     "start_time": "2021-06-24T16:06:13.413254",
     "status": "completed"
    },
    "tags": []
   },
   "outputs": [
    {
     "data": {
      "text/plain": [
       "'\\nhistory = model.fit(\\n            X, \\n            Labels,\\n            batch_size = 128,\\n            epochs = 10,\\n            validation_split = 0.2, # 20 percent data reserved for validation to avoid or monitor overfitting/ underfitting\\n            verbose = verbose,\\n        )\\n'"
      ]
     },
     "execution_count": 29,
     "metadata": {},
     "output_type": "execute_result"
    }
   ],
   "source": [
    "\"\"\"\n",
    "history = model.fit(\n",
    "            X, \n",
    "            Labels,\n",
    "            batch_size = 128,\n",
    "            epochs = 10,\n",
    "            validation_split = 0.2, # 20 percent data reserved for validation to avoid or monitor overfitting/ underfitting\n",
    "            verbose = verbose,\n",
    "        )\n",
    "\"\"\""
   ]
  },
  {
   "cell_type": "markdown",
   "metadata": {
    "papermill": {
     "duration": 0.04107,
     "end_time": "2021-06-24T16:06:13.547543",
     "exception": false,
     "start_time": "2021-06-24T16:06:13.506473",
     "status": "completed"
    },
    "tags": []
   },
   "source": [
    "## Final Training on competition data"
   ]
  },
  {
   "cell_type": "code",
   "execution_count": 30,
   "metadata": {
    "execution": {
     "iopub.execute_input": "2021-06-24T16:06:13.640973Z",
     "iopub.status.busy": "2021-06-24T16:06:13.639979Z",
     "iopub.status.idle": "2021-06-24T16:06:13.645408Z",
     "shell.execute_reply": "2021-06-24T16:06:13.646462Z",
     "shell.execute_reply.started": "2021-06-24T14:22:23.553718Z"
    },
    "papermill": {
     "duration": 0.05768,
     "end_time": "2021-06-24T16:06:13.646590",
     "exception": false,
     "start_time": "2021-06-24T16:06:13.588910",
     "status": "completed"
    },
    "tags": []
   },
   "outputs": [],
   "source": [
    "model_checkpoint_callback = tf.keras.callbacks.ModelCheckpoint(\n",
    "    filepath=\"best_lstm_toxic.h5\",\n",
    "    save_weights_only=True,\n",
    "    monitor='val_accuracy',\n",
    "    mode='max',\n",
    "    save_best_only=True)"
   ]
  },
  {
   "cell_type": "code",
   "execution_count": 31,
   "metadata": {
    "execution": {
     "iopub.execute_input": "2021-06-24T16:06:13.734406Z",
     "iopub.status.busy": "2021-06-24T16:06:13.733140Z",
     "iopub.status.idle": "2021-06-24T16:06:13.735374Z",
     "shell.execute_reply": "2021-06-24T16:06:13.735809Z",
     "shell.execute_reply.started": "2021-06-24T14:22:26.817817Z"
    },
    "papermill": {
     "duration": 0.047319,
     "end_time": "2021-06-24T16:06:13.735924",
     "exception": false,
     "start_time": "2021-06-24T16:06:13.688605",
     "status": "completed"
    },
    "tags": []
   },
   "outputs": [],
   "source": [
    "import time"
   ]
  },
  {
   "cell_type": "code",
   "execution_count": 32,
   "metadata": {
    "execution": {
     "iopub.execute_input": "2021-06-24T16:06:13.823919Z",
     "iopub.status.busy": "2021-06-24T16:06:13.823434Z",
     "iopub.status.idle": "2021-06-24T16:21:43.322140Z",
     "shell.execute_reply": "2021-06-24T16:21:43.321427Z",
     "shell.execute_reply.started": "2021-06-24T14:23:53.788359Z"
    },
    "papermill": {
     "duration": 929.544702,
     "end_time": "2021-06-24T16:21:43.322325",
     "exception": false,
     "start_time": "2021-06-24T16:06:13.777623",
     "status": "completed"
    },
    "tags": []
   },
   "outputs": [
    {
     "name": "stdout",
     "output_type": "stream",
     "text": [
      "Training model...\n",
      "9025/9025 [==============================] - 926s 102ms/step - loss: 0.2033 - acc: 0.9316 - val_loss: 0.1480 - val_acc: 0.9461\n",
      "Training duration: 15.452413904666901 minutes\n"
     ]
    }
   ],
   "source": [
    "# Train model.\n",
    "print('Training model...')\n",
    "start = time.time()\n",
    "history = model.fit(X_train,\n",
    "              y_train,\n",
    "              batch_size=BATCH_SIZE,\n",
    "              epochs= 1, #NUM_EPOCHS,\n",
    "              validation_data=(X_test, y_test),\n",
    "              verbose=1, callbacks = [model_checkpoint_callback])\n",
    "\n",
    "end = time.time()\n",
    "print(\"Training duration: {} minutes\".format(str((end-start)/60)))"
   ]
  },
  {
   "cell_type": "code",
   "execution_count": 33,
   "metadata": {
    "execution": {
     "iopub.execute_input": "2021-06-24T16:21:48.038878Z",
     "iopub.status.busy": "2021-06-24T16:21:48.033631Z",
     "iopub.status.idle": "2021-06-24T16:25:54.115543Z",
     "shell.execute_reply": "2021-06-24T16:25:54.115982Z",
     "shell.execute_reply.started": "2021-06-24T15:44:11.092209Z"
    },
    "papermill": {
     "duration": 248.429498,
     "end_time": "2021-06-24T16:25:54.116185",
     "exception": false,
     "start_time": "2021-06-24T16:21:45.686687",
     "status": "completed"
    },
    "tags": []
   },
   "outputs": [],
   "source": [
    "MODEL_NAME = 'my_model'\n",
    "validate_df[MODEL_NAME] = model.predict(pad_text(validate_df[TEXT_COLUMN], tokenizer))[:, 1]"
   ]
  },
  {
   "cell_type": "code",
   "execution_count": 34,
   "metadata": {
    "execution": {
     "iopub.execute_input": "2021-06-24T16:25:59.262533Z",
     "iopub.status.busy": "2021-06-24T16:25:59.255563Z",
     "iopub.status.idle": "2021-06-24T16:25:59.266526Z",
     "shell.execute_reply": "2021-06-24T16:25:59.266979Z",
     "shell.execute_reply.started": "2021-06-24T15:48:47.260305Z"
    },
    "papermill": {
     "duration": 2.83791,
     "end_time": "2021-06-24T16:25:59.267181",
     "exception": false,
     "start_time": "2021-06-24T16:25:56.429271",
     "status": "completed"
    },
    "tags": []
   },
   "outputs": [
    {
     "data": {
      "text/html": [
       "<div>\n",
       "<style scoped>\n",
       "    .dataframe tbody tr th:only-of-type {\n",
       "        vertical-align: middle;\n",
       "    }\n",
       "\n",
       "    .dataframe tbody tr th {\n",
       "        vertical-align: top;\n",
       "    }\n",
       "\n",
       "    .dataframe thead th {\n",
       "        text-align: right;\n",
       "    }\n",
       "</style>\n",
       "<table border=\"1\" class=\"dataframe\">\n",
       "  <thead>\n",
       "    <tr style=\"text-align: right;\">\n",
       "      <th></th>\n",
       "      <th>id</th>\n",
       "      <th>target</th>\n",
       "      <th>comment_text</th>\n",
       "      <th>severe_toxicity</th>\n",
       "      <th>obscene</th>\n",
       "      <th>identity_attack</th>\n",
       "      <th>insult</th>\n",
       "      <th>threat</th>\n",
       "      <th>asian</th>\n",
       "      <th>atheist</th>\n",
       "      <th>...</th>\n",
       "      <th>rating</th>\n",
       "      <th>funny</th>\n",
       "      <th>wow</th>\n",
       "      <th>sad</th>\n",
       "      <th>likes</th>\n",
       "      <th>disagree</th>\n",
       "      <th>sexual_explicit</th>\n",
       "      <th>identity_annotator_count</th>\n",
       "      <th>toxicity_annotator_count</th>\n",
       "      <th>my_model</th>\n",
       "    </tr>\n",
       "  </thead>\n",
       "  <tbody>\n",
       "    <tr>\n",
       "      <th>537354</th>\n",
       "      <td>900627</td>\n",
       "      <td>False</td>\n",
       "      <td>I have to call CRA just about daily for my job...</td>\n",
       "      <td>0.0</td>\n",
       "      <td>0.0</td>\n",
       "      <td>0.0</td>\n",
       "      <td>0.0</td>\n",
       "      <td>0.0</td>\n",
       "      <td>NaN</td>\n",
       "      <td>NaN</td>\n",
       "      <td>...</td>\n",
       "      <td>approved</td>\n",
       "      <td>0</td>\n",
       "      <td>0</td>\n",
       "      <td>0</td>\n",
       "      <td>3</td>\n",
       "      <td>0</td>\n",
       "      <td>0.0</td>\n",
       "      <td>0</td>\n",
       "      <td>6</td>\n",
       "      <td>0.000394</td>\n",
       "    </tr>\n",
       "    <tr>\n",
       "      <th>121690</th>\n",
       "      <td>390799</td>\n",
       "      <td>False</td>\n",
       "      <td>well traveled.</td>\n",
       "      <td>0.0</td>\n",
       "      <td>0.0</td>\n",
       "      <td>0.0</td>\n",
       "      <td>0.0</td>\n",
       "      <td>0.0</td>\n",
       "      <td>NaN</td>\n",
       "      <td>NaN</td>\n",
       "      <td>...</td>\n",
       "      <td>approved</td>\n",
       "      <td>0</td>\n",
       "      <td>0</td>\n",
       "      <td>0</td>\n",
       "      <td>3</td>\n",
       "      <td>0</td>\n",
       "      <td>0.0</td>\n",
       "      <td>0</td>\n",
       "      <td>4</td>\n",
       "      <td>0.004037</td>\n",
       "    </tr>\n",
       "    <tr>\n",
       "      <th>1420684</th>\n",
       "      <td>5855226</td>\n",
       "      <td>False</td>\n",
       "      <td>Really cannot believe aboriginal people even t...</td>\n",
       "      <td>0.0</td>\n",
       "      <td>0.0</td>\n",
       "      <td>0.0</td>\n",
       "      <td>0.0</td>\n",
       "      <td>0.0</td>\n",
       "      <td>NaN</td>\n",
       "      <td>NaN</td>\n",
       "      <td>...</td>\n",
       "      <td>approved</td>\n",
       "      <td>1</td>\n",
       "      <td>0</td>\n",
       "      <td>0</td>\n",
       "      <td>0</td>\n",
       "      <td>4</td>\n",
       "      <td>0.0</td>\n",
       "      <td>0</td>\n",
       "      <td>6</td>\n",
       "      <td>0.004335</td>\n",
       "    </tr>\n",
       "    <tr>\n",
       "      <th>800715</th>\n",
       "      <td>5100643</td>\n",
       "      <td>False</td>\n",
       "      <td>If the annual withdrawal from the permanent fu...</td>\n",
       "      <td>0.0</td>\n",
       "      <td>0.0</td>\n",
       "      <td>0.0</td>\n",
       "      <td>0.0</td>\n",
       "      <td>0.0</td>\n",
       "      <td>NaN</td>\n",
       "      <td>NaN</td>\n",
       "      <td>...</td>\n",
       "      <td>approved</td>\n",
       "      <td>0</td>\n",
       "      <td>0</td>\n",
       "      <td>0</td>\n",
       "      <td>1</td>\n",
       "      <td>2</td>\n",
       "      <td>0.0</td>\n",
       "      <td>0</td>\n",
       "      <td>4</td>\n",
       "      <td>0.000461</td>\n",
       "    </tr>\n",
       "    <tr>\n",
       "      <th>1705235</th>\n",
       "      <td>6212741</td>\n",
       "      <td>False</td>\n",
       "      <td>Anything this province does ends up as a cluster.</td>\n",
       "      <td>0.0</td>\n",
       "      <td>0.0</td>\n",
       "      <td>0.0</td>\n",
       "      <td>0.0</td>\n",
       "      <td>0.0</td>\n",
       "      <td>NaN</td>\n",
       "      <td>NaN</td>\n",
       "      <td>...</td>\n",
       "      <td>approved</td>\n",
       "      <td>0</td>\n",
       "      <td>0</td>\n",
       "      <td>0</td>\n",
       "      <td>1</td>\n",
       "      <td>4</td>\n",
       "      <td>0.0</td>\n",
       "      <td>0</td>\n",
       "      <td>4</td>\n",
       "      <td>0.021775</td>\n",
       "    </tr>\n",
       "  </tbody>\n",
       "</table>\n",
       "<p>5 rows × 46 columns</p>\n",
       "</div>"
      ],
      "text/plain": [
       "              id  target                                       comment_text  \\\n",
       "537354    900627   False  I have to call CRA just about daily for my job...   \n",
       "121690    390799   False                                     well traveled.   \n",
       "1420684  5855226   False  Really cannot believe aboriginal people even t...   \n",
       "800715   5100643   False  If the annual withdrawal from the permanent fu...   \n",
       "1705235  6212741   False  Anything this province does ends up as a cluster.   \n",
       "\n",
       "         severe_toxicity  obscene  identity_attack  insult  threat  asian  \\\n",
       "537354               0.0      0.0              0.0     0.0     0.0    NaN   \n",
       "121690               0.0      0.0              0.0     0.0     0.0    NaN   \n",
       "1420684              0.0      0.0              0.0     0.0     0.0    NaN   \n",
       "800715               0.0      0.0              0.0     0.0     0.0    NaN   \n",
       "1705235              0.0      0.0              0.0     0.0     0.0    NaN   \n",
       "\n",
       "         atheist  ...    rating  funny  wow  sad  likes  disagree  \\\n",
       "537354       NaN  ...  approved      0    0    0      3         0   \n",
       "121690       NaN  ...  approved      0    0    0      3         0   \n",
       "1420684      NaN  ...  approved      1    0    0      0         4   \n",
       "800715       NaN  ...  approved      0    0    0      1         2   \n",
       "1705235      NaN  ...  approved      0    0    0      1         4   \n",
       "\n",
       "         sexual_explicit  identity_annotator_count  toxicity_annotator_count  \\\n",
       "537354               0.0                         0                         6   \n",
       "121690               0.0                         0                         4   \n",
       "1420684              0.0                         0                         6   \n",
       "800715               0.0                         0                         4   \n",
       "1705235              0.0                         0                         4   \n",
       "\n",
       "         my_model  \n",
       "537354   0.000394  \n",
       "121690   0.004037  \n",
       "1420684  0.004335  \n",
       "800715   0.000461  \n",
       "1705235  0.021775  \n",
       "\n",
       "[5 rows x 46 columns]"
      ]
     },
     "execution_count": 34,
     "metadata": {},
     "output_type": "execute_result"
    }
   ],
   "source": [
    "validate_df.head()"
   ]
  },
  {
   "cell_type": "code",
   "execution_count": 35,
   "metadata": {
    "execution": {
     "iopub.execute_input": "2021-06-24T16:26:04.161700Z",
     "iopub.status.busy": "2021-06-24T16:26:04.160961Z",
     "iopub.status.idle": "2021-06-24T16:26:07.292975Z",
     "shell.execute_reply": "2021-06-24T16:26:07.292563Z",
     "shell.execute_reply.started": "2021-06-24T15:49:00.471919Z"
    },
    "papermill": {
     "duration": 5.692911,
     "end_time": "2021-06-24T16:26:07.293102",
     "exception": false,
     "start_time": "2021-06-24T16:26:01.600191",
     "status": "completed"
    },
    "tags": []
   },
   "outputs": [
    {
     "data": {
      "text/html": [
       "<div>\n",
       "<style scoped>\n",
       "    .dataframe tbody tr th:only-of-type {\n",
       "        vertical-align: middle;\n",
       "    }\n",
       "\n",
       "    .dataframe tbody tr th {\n",
       "        vertical-align: top;\n",
       "    }\n",
       "\n",
       "    .dataframe thead th {\n",
       "        text-align: right;\n",
       "    }\n",
       "</style>\n",
       "<table border=\"1\" class=\"dataframe\">\n",
       "  <thead>\n",
       "    <tr style=\"text-align: right;\">\n",
       "      <th></th>\n",
       "      <th>subgroup</th>\n",
       "      <th>subgroup_size</th>\n",
       "      <th>subgroup_auc</th>\n",
       "      <th>bpsn_auc</th>\n",
       "      <th>bnsp_auc</th>\n",
       "    </tr>\n",
       "  </thead>\n",
       "  <tbody>\n",
       "    <tr>\n",
       "      <th>6</th>\n",
       "      <td>black</td>\n",
       "      <td>3045</td>\n",
       "      <td>0.791388</td>\n",
       "      <td>0.746603</td>\n",
       "      <td>0.958699</td>\n",
       "    </tr>\n",
       "    <tr>\n",
       "      <th>2</th>\n",
       "      <td>homosexual_gay_or_lesbian</td>\n",
       "      <td>2166</td>\n",
       "      <td>0.802300</td>\n",
       "      <td>0.739165</td>\n",
       "      <td>0.963204</td>\n",
       "    </tr>\n",
       "    <tr>\n",
       "      <th>7</th>\n",
       "      <td>white</td>\n",
       "      <td>4914</td>\n",
       "      <td>0.807469</td>\n",
       "      <td>0.746134</td>\n",
       "      <td>0.964048</td>\n",
       "    </tr>\n",
       "    <tr>\n",
       "      <th>5</th>\n",
       "      <td>muslim</td>\n",
       "      <td>4208</td>\n",
       "      <td>0.821010</td>\n",
       "      <td>0.768144</td>\n",
       "      <td>0.961912</td>\n",
       "    </tr>\n",
       "    <tr>\n",
       "      <th>4</th>\n",
       "      <td>jewish</td>\n",
       "      <td>1525</td>\n",
       "      <td>0.847376</td>\n",
       "      <td>0.838008</td>\n",
       "      <td>0.943097</td>\n",
       "    </tr>\n",
       "    <tr>\n",
       "      <th>8</th>\n",
       "      <td>psychiatric_or_mental_illness</td>\n",
       "      <td>989</td>\n",
       "      <td>0.864263</td>\n",
       "      <td>0.840978</td>\n",
       "      <td>0.947512</td>\n",
       "    </tr>\n",
       "    <tr>\n",
       "      <th>0</th>\n",
       "      <td>male</td>\n",
       "      <td>8834</td>\n",
       "      <td>0.879578</td>\n",
       "      <td>0.868728</td>\n",
       "      <td>0.941467</td>\n",
       "    </tr>\n",
       "    <tr>\n",
       "      <th>1</th>\n",
       "      <td>female</td>\n",
       "      <td>10717</td>\n",
       "      <td>0.881003</td>\n",
       "      <td>0.877640</td>\n",
       "      <td>0.937122</td>\n",
       "    </tr>\n",
       "    <tr>\n",
       "      <th>3</th>\n",
       "      <td>christian</td>\n",
       "      <td>8053</td>\n",
       "      <td>0.904091</td>\n",
       "      <td>0.904367</td>\n",
       "      <td>0.933103</td>\n",
       "    </tr>\n",
       "  </tbody>\n",
       "</table>\n",
       "</div>"
      ],
      "text/plain": [
       "                        subgroup  subgroup_size  subgroup_auc  bpsn_auc  \\\n",
       "6                          black           3045      0.791388  0.746603   \n",
       "2      homosexual_gay_or_lesbian           2166      0.802300  0.739165   \n",
       "7                          white           4914      0.807469  0.746134   \n",
       "5                         muslim           4208      0.821010  0.768144   \n",
       "4                         jewish           1525      0.847376  0.838008   \n",
       "8  psychiatric_or_mental_illness            989      0.864263  0.840978   \n",
       "0                           male           8834      0.879578  0.868728   \n",
       "1                         female          10717      0.881003  0.877640   \n",
       "3                      christian           8053      0.904091  0.904367   \n",
       "\n",
       "   bnsp_auc  \n",
       "6  0.958699  \n",
       "2  0.963204  \n",
       "7  0.964048  \n",
       "5  0.961912  \n",
       "4  0.943097  \n",
       "8  0.947512  \n",
       "0  0.941467  \n",
       "1  0.937122  \n",
       "3  0.933103  "
      ]
     },
     "execution_count": 35,
     "metadata": {},
     "output_type": "execute_result"
    }
   ],
   "source": [
    "SUBGROUP_AUC = 'subgroup_auc'\n",
    "BPSN_AUC = 'bpsn_auc'  # stands for background positive, subgroup negative\n",
    "BNSP_AUC = 'bnsp_auc'  # stands for background negative, subgroup positive\n",
    "\n",
    "def compute_auc(y_true, y_pred):\n",
    "    try:\n",
    "        return metrics.roc_auc_score(y_true, y_pred)\n",
    "    except ValueError:\n",
    "        return np.nan\n",
    "\n",
    "def compute_subgroup_auc(df, subgroup, label, model_name):\n",
    "    subgroup_examples = df[df[subgroup]]\n",
    "    return compute_auc(subgroup_examples[label], subgroup_examples[model_name])\n",
    "\n",
    "def compute_bpsn_auc(df, subgroup, label, model_name):\n",
    "    \"\"\"Computes the AUC of the within-subgroup negative examples and the background positive examples.\"\"\"\n",
    "    subgroup_negative_examples = df[df[subgroup] & ~df[label]]\n",
    "    non_subgroup_positive_examples = df[~df[subgroup] & df[label]]\n",
    "    examples = subgroup_negative_examples.append(non_subgroup_positive_examples)\n",
    "    return compute_auc(examples[label], examples[model_name])\n",
    "\n",
    "def compute_bnsp_auc(df, subgroup, label, model_name):\n",
    "    \"\"\"Computes the AUC of the within-subgroup positive examples and the background negative examples.\"\"\"\n",
    "    subgroup_positive_examples = df[df[subgroup] & df[label]]\n",
    "    non_subgroup_negative_examples = df[~df[subgroup] & ~df[label]]\n",
    "    examples = subgroup_positive_examples.append(non_subgroup_negative_examples)\n",
    "    return compute_auc(examples[label], examples[model_name])\n",
    "\n",
    "def compute_bias_metrics_for_model(dataset,\n",
    "                                   subgroups,\n",
    "                                   model,\n",
    "                                   label_col,\n",
    "                                   include_asegs=False):\n",
    "    \"\"\"Computes per-subgroup metrics for all subgroups and one model.\"\"\"\n",
    "    records = []\n",
    "    for subgroup in subgroups:\n",
    "        record = {\n",
    "            'subgroup': subgroup,\n",
    "            'subgroup_size': len(dataset[dataset[subgroup]])\n",
    "        }\n",
    "        record[SUBGROUP_AUC] = compute_subgroup_auc(dataset, subgroup, label_col, model)\n",
    "        record[BPSN_AUC] = compute_bpsn_auc(dataset, subgroup, label_col, model)\n",
    "        record[BNSP_AUC] = compute_bnsp_auc(dataset, subgroup, label_col, model)\n",
    "        records.append(record)\n",
    "    return pd.DataFrame(records).sort_values('subgroup_auc', ascending=True)\n",
    "\n",
    "bias_metrics_df = compute_bias_metrics_for_model(validate_df, identity_columns, MODEL_NAME, TARGET_COLUMN)\n",
    "bias_metrics_df"
   ]
  },
  {
   "cell_type": "code",
   "execution_count": 36,
   "metadata": {
    "execution": {
     "iopub.execute_input": "2021-06-24T16:26:11.917563Z",
     "iopub.status.busy": "2021-06-24T16:26:11.916864Z",
     "iopub.status.idle": "2021-06-24T16:26:12.012215Z",
     "shell.execute_reply": "2021-06-24T16:26:12.011799Z",
     "shell.execute_reply.started": "2021-06-24T15:50:15.42903Z"
    },
    "papermill": {
     "duration": 2.399889,
     "end_time": "2021-06-24T16:26:12.012341",
     "exception": false,
     "start_time": "2021-06-24T16:26:09.612452",
     "status": "completed"
    },
    "tags": []
   },
   "outputs": [
    {
     "data": {
      "text/plain": [
       "0.8799928653352884"
      ]
     },
     "execution_count": 36,
     "metadata": {},
     "output_type": "execute_result"
    }
   ],
   "source": [
    "def calculate_overall_auc(df, model_name):\n",
    "    true_labels = df[TARGET_COLUMN]\n",
    "    predicted_labels = df[model_name]\n",
    "    return metrics.roc_auc_score(true_labels, predicted_labels)\n",
    "\n",
    "def power_mean(series, p):\n",
    "    total = sum(np.power(series, p))\n",
    "    return np.power(total / len(series), 1 / p)\n",
    "\n",
    "def get_final_metric(bias_df, overall_auc, POWER=-5, OVERALL_MODEL_WEIGHT=0.25):\n",
    "    bias_score = np.average([\n",
    "        power_mean(bias_df[SUBGROUP_AUC], POWER),\n",
    "        power_mean(bias_df[BPSN_AUC], POWER),\n",
    "        power_mean(bias_df[BNSP_AUC], POWER)\n",
    "    ])\n",
    "    return (OVERALL_MODEL_WEIGHT * overall_auc) + ((1 - OVERALL_MODEL_WEIGHT) * bias_score)\n",
    "    \n",
    "get_final_metric(bias_metrics_df, calculate_overall_auc(validate_df, MODEL_NAME))"
   ]
  },
  {
   "cell_type": "code",
   "execution_count": 37,
   "metadata": {
    "execution": {
     "iopub.execute_input": "2021-06-24T16:26:17.231040Z",
     "iopub.status.busy": "2021-06-24T16:26:17.230224Z",
     "iopub.status.idle": "2021-06-24T16:26:17.248344Z",
     "shell.execute_reply": "2021-06-24T16:26:17.248777Z",
     "shell.execute_reply.started": "2021-06-24T15:50:27.700451Z"
    },
    "papermill": {
     "duration": 2.884882,
     "end_time": "2021-06-24T16:26:17.248918",
     "exception": false,
     "start_time": "2021-06-24T16:26:14.364036",
     "status": "completed"
    },
    "tags": []
   },
   "outputs": [
    {
     "data": {
      "text/plain": [
       "736"
      ]
     },
     "execution_count": 37,
     "metadata": {},
     "output_type": "execute_result"
    }
   ],
   "source": [
    "del X_train, y_train, X_test, y_test\n",
    "gc.collect()"
   ]
  },
  {
   "cell_type": "code",
   "execution_count": 38,
   "metadata": {
    "execution": {
     "iopub.execute_input": "2021-06-24T16:26:21.998148Z",
     "iopub.status.busy": "2021-06-24T16:26:21.997458Z",
     "iopub.status.idle": "2021-06-24T16:26:21.999056Z",
     "shell.execute_reply": "2021-06-24T16:26:21.998635Z"
    },
    "papermill": {
     "duration": 2.345099,
     "end_time": "2021-06-24T16:26:21.999193",
     "exception": false,
     "start_time": "2021-06-24T16:26:19.654094",
     "status": "completed"
    },
    "tags": []
   },
   "outputs": [],
   "source": [
    "#model.save('../toxicity_classifier.h5')"
   ]
  },
  {
   "cell_type": "code",
   "execution_count": null,
   "metadata": {},
   "outputs": [],
   "source": [
    "# Plot training & validation accuracy values\n",
    "plt.plot(history.history['acc'])\n",
    "plt.plot(history.history['val_acc'])\n",
    "plt.title('Model accuracy')\n",
    "plt.ylabel('Accuracy')\n",
    "plt.xlabel('Epoch')\n",
    "plt.legend(['Train', 'Test'], loc='upper left')\n",
    "plt.show()"
   ]
  },
  {
   "cell_type": "code",
   "execution_count": null,
   "metadata": {},
   "outputs": [],
   "source": [
    "# Plot training & validation loss values\n",
    "plt.plot(history.history['loss'])\n",
    "plt.plot(history.history['val_loss'])\n",
    "plt.title('Model loss')\n",
    "plt.ylabel('Loss')\n",
    "plt.xlabel('Epoch')\n",
    "plt.legend(['Train', 'Test'], loc='upper left')\n",
    "plt.show()"
   ]
  },
  {
   "cell_type": "code",
   "execution_count": 41,
   "metadata": {
    "execution": {
     "iopub.execute_input": "2021-06-24T16:26:37.118702Z",
     "iopub.status.busy": "2021-06-24T16:26:37.117988Z",
     "iopub.status.idle": "2021-06-24T16:26:37.773390Z",
     "shell.execute_reply": "2021-06-24T16:26:37.772505Z",
     "shell.execute_reply.started": "2021-06-24T15:50:52.321628Z"
    },
    "papermill": {
     "duration": 3.19478,
     "end_time": "2021-06-24T16:26:37.773536",
     "exception": false,
     "start_time": "2021-06-24T16:26:34.578756",
     "status": "completed"
    },
    "tags": []
   },
   "outputs": [],
   "source": [
    "test = pd.read_csv('../input/jigsaw-unintended-bias-in-toxicity-classification/test.csv')\n",
    "submission = pd.read_csv('../input/jigsaw-unintended-bias-in-toxicity-classification/sample_submission.csv', index_col='id')"
   ]
  },
  {
   "cell_type": "code",
   "execution_count": 42,
   "metadata": {
    "execution": {
     "iopub.execute_input": "2021-06-24T16:26:42.444560Z",
     "iopub.status.busy": "2021-06-24T16:26:42.429295Z",
     "iopub.status.idle": "2021-06-24T16:27:48.889145Z",
     "shell.execute_reply": "2021-06-24T16:27:48.888676Z",
     "shell.execute_reply.started": "2021-06-24T15:55:21.556295Z"
    },
    "papermill": {
     "duration": 68.80849,
     "end_time": "2021-06-24T16:27:48.889357",
     "exception": false,
     "start_time": "2021-06-24T16:26:40.080867",
     "status": "completed"
    },
    "tags": []
   },
   "outputs": [],
   "source": [
    "submission['prediction'] = model.predict(pad_text(test[TEXT_COLUMN], tokenizer))[:, 1]\n",
    "submission.to_csv('submission.csv')"
   ]
  }
 ],
 "metadata": {
  "kernelspec": {
   "display_name": "Python 3",
   "language": "python",
   "name": "python3"
  },
  "language_info": {
   "codemirror_mode": {
    "name": "ipython",
    "version": 3
   },
   "file_extension": ".py",
   "mimetype": "text/x-python",
   "name": "python",
   "nbconvert_exporter": "python",
   "pygments_lexer": "ipython3",
   "version": "3.7.10"
  },
  "papermill": {
   "default_parameters": {},
   "duration": 1527.911007,
   "end_time": "2021-06-24T16:27:54.562803",
   "environment_variables": {},
   "exception": null,
   "input_path": "__notebook__.ipynb",
   "output_path": "__notebook__.ipynb",
   "parameters": {},
   "start_time": "2021-06-24T16:02:26.651796",
   "version": "2.3.3"
  }
 },
 "nbformat": 4,
 "nbformat_minor": 5
}
